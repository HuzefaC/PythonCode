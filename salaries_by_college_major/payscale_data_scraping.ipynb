{
 "cells": [
  {
   "cell_type": "code",
   "execution_count": 16,
   "metadata": {},
   "outputs": [
    {
     "name": "stderr",
     "output_type": "stream",
     "text": [
      "\u001b[KProcessed Page No. |################################| 34/34\n"
     ]
    }
   ],
   "source": [
    "import requests\n",
    "from bs4 import BeautifulSoup\n",
    "import pandas as pd\n",
    "from progress.bar import Bar\n",
    "\n",
    "url = \"https://www.payscale.com/college-salary-report/majors-that-pay-you-back/bachelors/page/\"\n",
    "text_data = []\n",
    "\n",
    "bar = Bar(message='Processed Page No.', max=34, check_tty=False, hide_cursor=False)\n",
    "\n",
    "for i in range(1, 35):\n",
    "    response = requests.get(f\"{url}{i}\")\n",
    "    web_site = response.text\n",
    "    soup =  BeautifulSoup(web_site, 'html.parser')\n",
    "    data = soup.find_all('span', class_='data-table__value')\n",
    "    text_data += [item.get_text() for item in data]\n",
    "    bar.next()\n",
    "\n",
    "bar.finish()\n",
    "major = text_data[1::6]\n",
    "early_career_pay = text_data[3::6]\n",
    "early_career_pay = [item[1:].replace(',', '') for item in early_career_pay]\n",
    "\n",
    "mid_career_pay = text_data[4::6]\n",
    "mid_career_pay = [item[1:].replace(',', '') for item in mid_career_pay]\n",
    "\n",
    "high_meaning = text_data[5::6]\n",
    "high_meaning = [item[:-1].replace(',', '') for item in high_meaning]\n",
    "\n",
    "x = list(zip(major, early_career_pay, mid_career_pay, high_meaning))\n",
    "df = pd.DataFrame(x, columns=['Major', 'Early Career Pay', 'Mid-Career Pay', '% High Meaning'])\n",
    "df.to_csv('sample_data/new_payscale_data.csv', index=False)"
   ]
  },
  {
   "cell_type": "code",
   "execution_count": null,
   "metadata": {},
   "outputs": [],
   "source": []
  }
 ],
 "metadata": {
  "kernelspec": {
   "display_name": "Python 3",
   "language": "python",
   "name": "python3"
  },
  "language_info": {
   "codemirror_mode": {
    "name": "ipython",
    "version": 3
   },
   "file_extension": ".py",
   "mimetype": "text/x-python",
   "name": "python",
   "nbconvert_exporter": "python",
   "pygments_lexer": "ipython3",
   "version": "3.8.5"
  }
 },
 "nbformat": 4,
 "nbformat_minor": 4
}
