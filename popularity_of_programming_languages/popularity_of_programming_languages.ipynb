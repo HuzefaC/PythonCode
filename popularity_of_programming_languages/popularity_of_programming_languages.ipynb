{
 "cells": [
  {
   "cell_type": "markdown",
   "metadata": {
    "colab_type": "text",
    "id": "MAAKxOwsGxuj"
   },
   "source": [
    "## Get the Data\n",
    "\n",
    "Either use the provided .csv file or (optionally) get fresh (the freshest?) data from running an SQL query on StackExchange: \n",
    "\n",
    "Follow this link to run the query from [StackExchange](https://data.stackexchange.com/stackoverflow/query/675441/popular-programming-languages-per-over-time-eversql-com) to get your own .csv file\n",
    "\n",
    "<code>\n",
    "select dateadd(month, datediff(month, 0, q.CreationDate), 0) m, TagName, count(*)\n",
    "from PostTags pt\n",
    "join Posts q on q.Id=pt.PostId\n",
    "join Tags t on t.Id=pt.TagId\n",
    "where TagName in ('java','c','c++','python','c#','javascript','assembly','php','perl','ruby','visual basic','swift','r','object-c','scratch','go','swift','delphi')\n",
    "and q.CreationDate < dateadd(month, datediff(month, 0, getdate()), 0)\n",
    "group by dateadd(month, datediff(month, 0, q.CreationDate), 0), TagName\n",
    "order by dateadd(month, datediff(month, 0, q.CreationDate), 0)\n",
    "</code>"
   ]
  },
  {
   "cell_type": "markdown",
   "metadata": {
    "colab_type": "text",
    "id": "u5KcSXt1Gxuk"
   },
   "source": [
    "## Import Statements"
   ]
  },
  {
   "cell_type": "code",
   "execution_count": 89,
   "metadata": {
    "colab": {},
    "colab_type": "code",
    "id": "Ru4Wq-pXGxuk"
   },
   "outputs": [],
   "source": [
    "import pandas as pd\n",
    "import matplotlib.pyplot as plt"
   ]
  },
  {
   "cell_type": "markdown",
   "metadata": {
    "colab_type": "text",
    "id": "xEP6beuEGxun"
   },
   "source": [
    "## Data Exploration"
   ]
  },
  {
   "cell_type": "markdown",
   "metadata": {
    "colab_type": "text",
    "id": "w3Q75B4CGxun"
   },
   "source": [
    "**Challenge**: Read the .csv file and store it in a Pandas dataframe"
   ]
  },
  {
   "cell_type": "code",
   "execution_count": 22,
   "metadata": {
    "colab": {},
    "colab_type": "code",
    "id": "Bm7hQtEGIiri"
   },
   "outputs": [],
   "source": [
    "df = pd.read_csv('sample_data\\QueryResults.csv', names=['DATE', 'TAG', 'POSTS'], header=0)"
   ]
  },
  {
   "cell_type": "markdown",
   "metadata": {
    "colab_type": "text",
    "id": "x2WnDM75Gxup"
   },
   "source": [
    "**Challenge**: Examine the first 5 rows and the last 5 rows of the of the dataframe"
   ]
  },
  {
   "cell_type": "code",
   "execution_count": 23,
   "metadata": {
    "colab": {},
    "colab_type": "code",
    "id": "50oqpUxVIiJf"
   },
   "outputs": [
    {
     "data": {
      "text/html": [
       "<div>\n",
       "<style scoped>\n",
       "    .dataframe tbody tr th:only-of-type {\n",
       "        vertical-align: middle;\n",
       "    }\n",
       "\n",
       "    .dataframe tbody tr th {\n",
       "        vertical-align: top;\n",
       "    }\n",
       "\n",
       "    .dataframe thead th {\n",
       "        text-align: right;\n",
       "    }\n",
       "</style>\n",
       "<table border=\"1\" class=\"dataframe\">\n",
       "  <thead>\n",
       "    <tr style=\"text-align: right;\">\n",
       "      <th></th>\n",
       "      <th>DATE</th>\n",
       "      <th>TAG</th>\n",
       "      <th>POSTS</th>\n",
       "    </tr>\n",
       "  </thead>\n",
       "  <tbody>\n",
       "    <tr>\n",
       "      <th>0</th>\n",
       "      <td>2008-07-01 00:00:00</td>\n",
       "      <td>c#</td>\n",
       "      <td>3</td>\n",
       "    </tr>\n",
       "    <tr>\n",
       "      <th>1</th>\n",
       "      <td>2008-08-01 00:00:00</td>\n",
       "      <td>assembly</td>\n",
       "      <td>8</td>\n",
       "    </tr>\n",
       "    <tr>\n",
       "      <th>2</th>\n",
       "      <td>2008-08-01 00:00:00</td>\n",
       "      <td>javascript</td>\n",
       "      <td>162</td>\n",
       "    </tr>\n",
       "    <tr>\n",
       "      <th>3</th>\n",
       "      <td>2008-08-01 00:00:00</td>\n",
       "      <td>c</td>\n",
       "      <td>85</td>\n",
       "    </tr>\n",
       "    <tr>\n",
       "      <th>4</th>\n",
       "      <td>2008-08-01 00:00:00</td>\n",
       "      <td>python</td>\n",
       "      <td>124</td>\n",
       "    </tr>\n",
       "  </tbody>\n",
       "</table>\n",
       "</div>"
      ],
      "text/plain": [
       "                  DATE         TAG  POSTS\n",
       "0  2008-07-01 00:00:00          c#      3\n",
       "1  2008-08-01 00:00:00    assembly      8\n",
       "2  2008-08-01 00:00:00  javascript    162\n",
       "3  2008-08-01 00:00:00           c     85\n",
       "4  2008-08-01 00:00:00      python    124"
      ]
     },
     "execution_count": 23,
     "metadata": {},
     "output_type": "execute_result"
    }
   ],
   "source": [
    "df.head()"
   ]
  },
  {
   "cell_type": "markdown",
   "metadata": {
    "colab_type": "text",
    "id": "0o9hvVgyGxus"
   },
   "source": [
    "**Challenge:** Check how many rows and how many columns there are. \n",
    "What are the dimensions of the dataframe?"
   ]
  },
  {
   "cell_type": "code",
   "execution_count": 25,
   "metadata": {
    "colab": {},
    "colab_type": "code",
    "id": "ZUidjCPFIho8"
   },
   "outputs": [
    {
     "data": {
      "text/plain": [
       "(1991, 3)"
      ]
     },
     "execution_count": 25,
     "metadata": {},
     "output_type": "execute_result"
    }
   ],
   "source": [
    "df.shape"
   ]
  },
  {
   "cell_type": "markdown",
   "metadata": {
    "colab_type": "text",
    "id": "ybZkNLmxGxuu"
   },
   "source": [
    "**Challenge**: Count the number of entries in each column of the dataframe"
   ]
  },
  {
   "cell_type": "code",
   "execution_count": 24,
   "metadata": {
    "colab": {},
    "colab_type": "code",
    "id": "Sc1dmmOoIg2g"
   },
   "outputs": [
    {
     "data": {
      "text/plain": [
       "DATE     1991\n",
       "TAG      1991\n",
       "POSTS    1991\n",
       "dtype: int64"
      ]
     },
     "execution_count": 24,
     "metadata": {},
     "output_type": "execute_result"
    }
   ],
   "source": [
    "df.count()"
   ]
  },
  {
   "cell_type": "markdown",
   "metadata": {
    "colab_type": "text",
    "id": "hlnfFsscGxuw"
   },
   "source": [
    "**Challenge**: Calculate the total number of post per language.\n",
    "Which Programming language has had the highest total number of posts of all time?"
   ]
  },
  {
   "cell_type": "code",
   "execution_count": 27,
   "metadata": {
    "colab": {},
    "colab_type": "code",
    "id": "9-NYFONcIc1X"
   },
   "outputs": [
    {
     "data": {
      "text/html": [
       "<div>\n",
       "<style scoped>\n",
       "    .dataframe tbody tr th:only-of-type {\n",
       "        vertical-align: middle;\n",
       "    }\n",
       "\n",
       "    .dataframe tbody tr th {\n",
       "        vertical-align: top;\n",
       "    }\n",
       "\n",
       "    .dataframe thead th {\n",
       "        text-align: right;\n",
       "    }\n",
       "</style>\n",
       "<table border=\"1\" class=\"dataframe\">\n",
       "  <thead>\n",
       "    <tr style=\"text-align: right;\">\n",
       "      <th></th>\n",
       "      <th>POSTS</th>\n",
       "    </tr>\n",
       "    <tr>\n",
       "      <th>TAG</th>\n",
       "      <th></th>\n",
       "    </tr>\n",
       "  </thead>\n",
       "  <tbody>\n",
       "    <tr>\n",
       "      <th>assembly</th>\n",
       "      <td>34852</td>\n",
       "    </tr>\n",
       "    <tr>\n",
       "      <th>c</th>\n",
       "      <td>336042</td>\n",
       "    </tr>\n",
       "    <tr>\n",
       "      <th>c#</th>\n",
       "      <td>1423530</td>\n",
       "    </tr>\n",
       "    <tr>\n",
       "      <th>c++</th>\n",
       "      <td>684210</td>\n",
       "    </tr>\n",
       "    <tr>\n",
       "      <th>delphi</th>\n",
       "      <td>46212</td>\n",
       "    </tr>\n",
       "    <tr>\n",
       "      <th>go</th>\n",
       "      <td>47499</td>\n",
       "    </tr>\n",
       "    <tr>\n",
       "      <th>java</th>\n",
       "      <td>1696403</td>\n",
       "    </tr>\n",
       "    <tr>\n",
       "      <th>javascript</th>\n",
       "      <td>2056510</td>\n",
       "    </tr>\n",
       "    <tr>\n",
       "      <th>perl</th>\n",
       "      <td>65286</td>\n",
       "    </tr>\n",
       "    <tr>\n",
       "      <th>php</th>\n",
       "      <td>1361988</td>\n",
       "    </tr>\n",
       "    <tr>\n",
       "      <th>python</th>\n",
       "      <td>1496210</td>\n",
       "    </tr>\n",
       "    <tr>\n",
       "      <th>r</th>\n",
       "      <td>356799</td>\n",
       "    </tr>\n",
       "    <tr>\n",
       "      <th>ruby</th>\n",
       "      <td>214582</td>\n",
       "    </tr>\n",
       "    <tr>\n",
       "      <th>swift</th>\n",
       "      <td>273055</td>\n",
       "    </tr>\n",
       "  </tbody>\n",
       "</table>\n",
       "</div>"
      ],
      "text/plain": [
       "              POSTS\n",
       "TAG                \n",
       "assembly      34852\n",
       "c            336042\n",
       "c#          1423530\n",
       "c++          684210\n",
       "delphi        46212\n",
       "go            47499\n",
       "java        1696403\n",
       "javascript  2056510\n",
       "perl          65286\n",
       "php         1361988\n",
       "python      1496210\n",
       "r            356799\n",
       "ruby         214582\n",
       "swift        273055"
      ]
     },
     "execution_count": 27,
     "metadata": {},
     "output_type": "execute_result"
    }
   ],
   "source": [
    "df.groupby('TAG').sum()"
   ]
  },
  {
   "cell_type": "markdown",
   "metadata": {
    "colab_type": "text",
    "id": "iVCesB49Gxuz"
   },
   "source": [
    "Some languages are older (e.g., C) and other languages are newer (e.g., Swift). The dataset starts in September 2008.\n",
    "\n",
    "**Challenge**: How many months of data exist per language? Which language had the fewest months with an entry? \n"
   ]
  },
  {
   "cell_type": "code",
   "execution_count": 68,
   "metadata": {
    "colab": {},
    "colab_type": "code",
    "id": "hDT4JlJNJfgQ"
   },
   "outputs": [
    {
     "name": "stdout",
     "output_type": "stream",
     "text": [
      "            DATE  POSTS\n",
      "TAG                    \n",
      "assembly     144    144\n",
      "c            144    144\n",
      "c#           145    145\n",
      "c++          144    144\n",
      "delphi       144    144\n",
      "go           129    129\n",
      "java         144    144\n",
      "javascript   144    144\n",
      "perl         144    144\n",
      "php          144    144\n",
      "python       144    144\n",
      "r            142    142\n",
      "ruby         144    144\n",
      "swift        135    135\n",
      "129\n"
     ]
    }
   ],
   "source": [
    "tags=df.groupby('TAG').count()\n",
    "print(tags)\n",
    "print(tags['DATE'].min())"
   ]
  },
  {
   "cell_type": "markdown",
   "metadata": {
    "colab_type": "text",
    "id": "arguGp3ZGxu1"
   },
   "source": [
    "## Data Cleaning\n",
    "\n",
    "Let's fix the date format to make it more readable. We need to use Pandas to change format from a string of \"2008-07-01 00:00:00\" to a datetime object with the format of \"2008-07-01\""
   ]
  },
  {
   "cell_type": "code",
   "execution_count": 75,
   "metadata": {
    "colab": {},
    "colab_type": "code",
    "id": "5nh5a4UtGxu1"
   },
   "outputs": [
    {
     "data": {
      "text/plain": [
       "0      2008-07-01\n",
       "1      2008-08-01\n",
       "2      2008-08-01\n",
       "3      2008-08-01\n",
       "4      2008-08-01\n",
       "          ...    \n",
       "1986   2020-07-01\n",
       "1987   2020-07-01\n",
       "1988   2020-07-01\n",
       "1989   2020-07-01\n",
       "1990   2020-07-01\n",
       "Name: DATE, Length: 1991, dtype: datetime64[ns]"
      ]
     },
     "execution_count": 75,
     "metadata": {},
     "output_type": "execute_result"
    }
   ],
   "source": [
    "df.DATE = pd.to_datetime(df.DATE)\n",
    "df.DATE"
   ]
  },
  {
   "cell_type": "code",
   "execution_count": 76,
   "metadata": {
    "colab": {},
    "colab_type": "code",
    "id": "016H-Fy4Gxu3"
   },
   "outputs": [
    {
     "data": {
      "text/html": [
       "<div>\n",
       "<style scoped>\n",
       "    .dataframe tbody tr th:only-of-type {\n",
       "        vertical-align: middle;\n",
       "    }\n",
       "\n",
       "    .dataframe tbody tr th {\n",
       "        vertical-align: top;\n",
       "    }\n",
       "\n",
       "    .dataframe thead th {\n",
       "        text-align: right;\n",
       "    }\n",
       "</style>\n",
       "<table border=\"1\" class=\"dataframe\">\n",
       "  <thead>\n",
       "    <tr style=\"text-align: right;\">\n",
       "      <th></th>\n",
       "      <th>Age</th>\n",
       "      <th>Actor</th>\n",
       "      <th>Power</th>\n",
       "    </tr>\n",
       "  </thead>\n",
       "  <tbody>\n",
       "    <tr>\n",
       "      <th>0</th>\n",
       "      <td>Young</td>\n",
       "      <td>Jack</td>\n",
       "      <td>100</td>\n",
       "    </tr>\n",
       "    <tr>\n",
       "      <th>1</th>\n",
       "      <td>Young</td>\n",
       "      <td>Arnold</td>\n",
       "      <td>80</td>\n",
       "    </tr>\n",
       "    <tr>\n",
       "      <th>2</th>\n",
       "      <td>Young</td>\n",
       "      <td>Keanu</td>\n",
       "      <td>25</td>\n",
       "    </tr>\n",
       "    <tr>\n",
       "      <th>3</th>\n",
       "      <td>Young</td>\n",
       "      <td>Sylvester</td>\n",
       "      <td>50</td>\n",
       "    </tr>\n",
       "    <tr>\n",
       "      <th>4</th>\n",
       "      <td>Old</td>\n",
       "      <td>Jack</td>\n",
       "      <td>99</td>\n",
       "    </tr>\n",
       "    <tr>\n",
       "      <th>5</th>\n",
       "      <td>Old</td>\n",
       "      <td>Arnold</td>\n",
       "      <td>75</td>\n",
       "    </tr>\n",
       "    <tr>\n",
       "      <th>6</th>\n",
       "      <td>Old</td>\n",
       "      <td>Keanu</td>\n",
       "      <td>5</td>\n",
       "    </tr>\n",
       "    <tr>\n",
       "      <th>7</th>\n",
       "      <td>Old</td>\n",
       "      <td>Sylvester</td>\n",
       "      <td>30</td>\n",
       "    </tr>\n",
       "  </tbody>\n",
       "</table>\n",
       "</div>"
      ],
      "text/plain": [
       "     Age      Actor  Power\n",
       "0  Young       Jack    100\n",
       "1  Young     Arnold     80\n",
       "2  Young      Keanu     25\n",
       "3  Young  Sylvester     50\n",
       "4    Old       Jack     99\n",
       "5    Old     Arnold     75\n",
       "6    Old      Keanu      5\n",
       "7    Old  Sylvester     30"
      ]
     },
     "execution_count": 76,
     "metadata": {},
     "output_type": "execute_result"
    }
   ],
   "source": [
    "test_df = pd.DataFrame({'Age': ['Young', 'Young', 'Young', 'Young', 'Old', 'Old', 'Old', 'Old'],\n",
    "                        'Actor': ['Jack', 'Arnold', 'Keanu', 'Sylvester', 'Jack', 'Arnold', 'Keanu', 'Sylvester'],\n",
    "                        'Power': [100, 80, 25, 50, 99, 75, 5, 30]})\n",
    "test_df"
   ]
  },
  {
   "cell_type": "code",
   "execution_count": 84,
   "metadata": {
    "colab": {},
    "colab_type": "code",
    "id": "4EiSd7pdGxu5"
   },
   "outputs": [
    {
     "data": {
      "text/html": [
       "<div>\n",
       "<style scoped>\n",
       "    .dataframe tbody tr th:only-of-type {\n",
       "        vertical-align: middle;\n",
       "    }\n",
       "\n",
       "    .dataframe tbody tr th {\n",
       "        vertical-align: top;\n",
       "    }\n",
       "\n",
       "    .dataframe thead th {\n",
       "        text-align: right;\n",
       "    }\n",
       "</style>\n",
       "<table border=\"1\" class=\"dataframe\">\n",
       "  <thead>\n",
       "    <tr style=\"text-align: right;\">\n",
       "      <th>TAG</th>\n",
       "      <th>assembly</th>\n",
       "      <th>c</th>\n",
       "      <th>c#</th>\n",
       "      <th>c++</th>\n",
       "      <th>delphi</th>\n",
       "      <th>go</th>\n",
       "      <th>java</th>\n",
       "      <th>javascript</th>\n",
       "      <th>perl</th>\n",
       "      <th>php</th>\n",
       "      <th>python</th>\n",
       "      <th>r</th>\n",
       "      <th>ruby</th>\n",
       "      <th>swift</th>\n",
       "    </tr>\n",
       "    <tr>\n",
       "      <th>DATE</th>\n",
       "      <th></th>\n",
       "      <th></th>\n",
       "      <th></th>\n",
       "      <th></th>\n",
       "      <th></th>\n",
       "      <th></th>\n",
       "      <th></th>\n",
       "      <th></th>\n",
       "      <th></th>\n",
       "      <th></th>\n",
       "      <th></th>\n",
       "      <th></th>\n",
       "      <th></th>\n",
       "      <th></th>\n",
       "    </tr>\n",
       "  </thead>\n",
       "  <tbody>\n",
       "    <tr>\n",
       "      <th>2008-07-01</th>\n",
       "      <td>0.0</td>\n",
       "      <td>0.0</td>\n",
       "      <td>3.0</td>\n",
       "      <td>0.0</td>\n",
       "      <td>0.0</td>\n",
       "      <td>0.0</td>\n",
       "      <td>0.0</td>\n",
       "      <td>0.0</td>\n",
       "      <td>0.0</td>\n",
       "      <td>0.0</td>\n",
       "      <td>0.0</td>\n",
       "      <td>0.0</td>\n",
       "      <td>0.0</td>\n",
       "      <td>0.0</td>\n",
       "    </tr>\n",
       "    <tr>\n",
       "      <th>2008-08-01</th>\n",
       "      <td>8.0</td>\n",
       "      <td>85.0</td>\n",
       "      <td>511.0</td>\n",
       "      <td>164.0</td>\n",
       "      <td>14.0</td>\n",
       "      <td>0.0</td>\n",
       "      <td>222.0</td>\n",
       "      <td>162.0</td>\n",
       "      <td>28.0</td>\n",
       "      <td>161.0</td>\n",
       "      <td>124.0</td>\n",
       "      <td>0.0</td>\n",
       "      <td>73.0</td>\n",
       "      <td>0.0</td>\n",
       "    </tr>\n",
       "    <tr>\n",
       "      <th>2008-09-01</th>\n",
       "      <td>28.0</td>\n",
       "      <td>321.0</td>\n",
       "      <td>1649.0</td>\n",
       "      <td>755.0</td>\n",
       "      <td>105.0</td>\n",
       "      <td>0.0</td>\n",
       "      <td>1137.0</td>\n",
       "      <td>640.0</td>\n",
       "      <td>131.0</td>\n",
       "      <td>482.0</td>\n",
       "      <td>542.0</td>\n",
       "      <td>6.0</td>\n",
       "      <td>290.0</td>\n",
       "      <td>0.0</td>\n",
       "    </tr>\n",
       "    <tr>\n",
       "      <th>2008-10-01</th>\n",
       "      <td>15.0</td>\n",
       "      <td>303.0</td>\n",
       "      <td>1989.0</td>\n",
       "      <td>811.0</td>\n",
       "      <td>112.0</td>\n",
       "      <td>0.0</td>\n",
       "      <td>1153.0</td>\n",
       "      <td>725.0</td>\n",
       "      <td>127.0</td>\n",
       "      <td>617.0</td>\n",
       "      <td>510.0</td>\n",
       "      <td>0.0</td>\n",
       "      <td>249.0</td>\n",
       "      <td>0.0</td>\n",
       "    </tr>\n",
       "    <tr>\n",
       "      <th>2008-11-01</th>\n",
       "      <td>17.0</td>\n",
       "      <td>259.0</td>\n",
       "      <td>1730.0</td>\n",
       "      <td>735.0</td>\n",
       "      <td>141.0</td>\n",
       "      <td>0.0</td>\n",
       "      <td>958.0</td>\n",
       "      <td>579.0</td>\n",
       "      <td>97.0</td>\n",
       "      <td>504.0</td>\n",
       "      <td>452.0</td>\n",
       "      <td>1.0</td>\n",
       "      <td>160.0</td>\n",
       "      <td>0.0</td>\n",
       "    </tr>\n",
       "    <tr>\n",
       "      <th>...</th>\n",
       "      <td>...</td>\n",
       "      <td>...</td>\n",
       "      <td>...</td>\n",
       "      <td>...</td>\n",
       "      <td>...</td>\n",
       "      <td>...</td>\n",
       "      <td>...</td>\n",
       "      <td>...</td>\n",
       "      <td>...</td>\n",
       "      <td>...</td>\n",
       "      <td>...</td>\n",
       "      <td>...</td>\n",
       "      <td>...</td>\n",
       "      <td>...</td>\n",
       "    </tr>\n",
       "    <tr>\n",
       "      <th>2020-03-01</th>\n",
       "      <td>317.0</td>\n",
       "      <td>2670.0</td>\n",
       "      <td>8954.0</td>\n",
       "      <td>5107.0</td>\n",
       "      <td>181.0</td>\n",
       "      <td>719.0</td>\n",
       "      <td>13253.0</td>\n",
       "      <td>20483.0</td>\n",
       "      <td>215.0</td>\n",
       "      <td>6672.0</td>\n",
       "      <td>26673.0</td>\n",
       "      <td>5761.0</td>\n",
       "      <td>780.0</td>\n",
       "      <td>3434.0</td>\n",
       "    </tr>\n",
       "    <tr>\n",
       "      <th>2020-04-01</th>\n",
       "      <td>406.0</td>\n",
       "      <td>3472.0</td>\n",
       "      <td>10042.0</td>\n",
       "      <td>6820.0</td>\n",
       "      <td>250.0</td>\n",
       "      <td>887.0</td>\n",
       "      <td>15377.0</td>\n",
       "      <td>24634.0</td>\n",
       "      <td>240.0</td>\n",
       "      <td>8060.0</td>\n",
       "      <td>32605.0</td>\n",
       "      <td>7047.0</td>\n",
       "      <td>860.0</td>\n",
       "      <td>4015.0</td>\n",
       "    </tr>\n",
       "    <tr>\n",
       "      <th>2020-05-01</th>\n",
       "      <td>386.0</td>\n",
       "      <td>3602.0</td>\n",
       "      <td>9923.0</td>\n",
       "      <td>7063.0</td>\n",
       "      <td>221.0</td>\n",
       "      <td>826.0</td>\n",
       "      <td>14711.0</td>\n",
       "      <td>25196.0</td>\n",
       "      <td>228.0</td>\n",
       "      <td>7917.0</td>\n",
       "      <td>34478.0</td>\n",
       "      <td>6833.0</td>\n",
       "      <td>774.0</td>\n",
       "      <td>4066.0</td>\n",
       "    </tr>\n",
       "    <tr>\n",
       "      <th>2020-06-01</th>\n",
       "      <td>363.0</td>\n",
       "      <td>2757.0</td>\n",
       "      <td>9064.0</td>\n",
       "      <td>6161.0</td>\n",
       "      <td>214.0</td>\n",
       "      <td>765.0</td>\n",
       "      <td>13015.0</td>\n",
       "      <td>23360.0</td>\n",
       "      <td>203.0</td>\n",
       "      <td>7188.0</td>\n",
       "      <td>31817.0</td>\n",
       "      <td>6249.0</td>\n",
       "      <td>670.0</td>\n",
       "      <td>3733.0</td>\n",
       "    </tr>\n",
       "    <tr>\n",
       "      <th>2020-07-01</th>\n",
       "      <td>298.0</td>\n",
       "      <td>2294.0</td>\n",
       "      <td>9145.0</td>\n",
       "      <td>5756.0</td>\n",
       "      <td>212.0</td>\n",
       "      <td>743.0</td>\n",
       "      <td>12723.0</td>\n",
       "      <td>23802.0</td>\n",
       "      <td>182.0</td>\n",
       "      <td>7334.0</td>\n",
       "      <td>31261.0</td>\n",
       "      <td>5694.0</td>\n",
       "      <td>775.0</td>\n",
       "      <td>3607.0</td>\n",
       "    </tr>\n",
       "  </tbody>\n",
       "</table>\n",
       "<p>145 rows × 14 columns</p>\n",
       "</div>"
      ],
      "text/plain": [
       "TAG         assembly       c       c#     c++  delphi     go     java  \\\n",
       "DATE                                                                    \n",
       "2008-07-01       0.0     0.0      3.0     0.0     0.0    0.0      0.0   \n",
       "2008-08-01       8.0    85.0    511.0   164.0    14.0    0.0    222.0   \n",
       "2008-09-01      28.0   321.0   1649.0   755.0   105.0    0.0   1137.0   \n",
       "2008-10-01      15.0   303.0   1989.0   811.0   112.0    0.0   1153.0   \n",
       "2008-11-01      17.0   259.0   1730.0   735.0   141.0    0.0    958.0   \n",
       "...              ...     ...      ...     ...     ...    ...      ...   \n",
       "2020-03-01     317.0  2670.0   8954.0  5107.0   181.0  719.0  13253.0   \n",
       "2020-04-01     406.0  3472.0  10042.0  6820.0   250.0  887.0  15377.0   \n",
       "2020-05-01     386.0  3602.0   9923.0  7063.0   221.0  826.0  14711.0   \n",
       "2020-06-01     363.0  2757.0   9064.0  6161.0   214.0  765.0  13015.0   \n",
       "2020-07-01     298.0  2294.0   9145.0  5756.0   212.0  743.0  12723.0   \n",
       "\n",
       "TAG         javascript   perl     php   python       r   ruby   swift  \n",
       "DATE                                                                   \n",
       "2008-07-01         0.0    0.0     0.0      0.0     0.0    0.0     0.0  \n",
       "2008-08-01       162.0   28.0   161.0    124.0     0.0   73.0     0.0  \n",
       "2008-09-01       640.0  131.0   482.0    542.0     6.0  290.0     0.0  \n",
       "2008-10-01       725.0  127.0   617.0    510.0     0.0  249.0     0.0  \n",
       "2008-11-01       579.0   97.0   504.0    452.0     1.0  160.0     0.0  \n",
       "...                ...    ...     ...      ...     ...    ...     ...  \n",
       "2020-03-01     20483.0  215.0  6672.0  26673.0  5761.0  780.0  3434.0  \n",
       "2020-04-01     24634.0  240.0  8060.0  32605.0  7047.0  860.0  4015.0  \n",
       "2020-05-01     25196.0  228.0  7917.0  34478.0  6833.0  774.0  4066.0  \n",
       "2020-06-01     23360.0  203.0  7188.0  31817.0  6249.0  670.0  3733.0  \n",
       "2020-07-01     23802.0  182.0  7334.0  31261.0  5694.0  775.0  3607.0  \n",
       "\n",
       "[145 rows x 14 columns]"
      ]
     },
     "execution_count": 84,
     "metadata": {},
     "output_type": "execute_result"
    }
   ],
   "source": [
    "pivoted_df = df.pivot(index='DATE', columns='TAG', values='POSTS')\n",
    "pivoted_df.fillna(0, inplace=True)\n",
    "pivoted_df"
   ]
  },
  {
   "cell_type": "markdown",
   "metadata": {
    "colab_type": "text",
    "id": "rWAV6tuzGxu6"
   },
   "source": [
    "## Data Manipulation\n",
    "\n"
   ]
  },
  {
   "cell_type": "code",
   "execution_count": 87,
   "metadata": {
    "colab": {},
    "colab_type": "code",
    "id": "aHhbulJaGxu7"
   },
   "outputs": [
    {
     "data": {
      "text/plain": [
       "False"
      ]
     },
     "execution_count": 87,
     "metadata": {},
     "output_type": "execute_result"
    }
   ],
   "source": [
    "pivoted_df.isna().values.any()"
   ]
  },
  {
   "cell_type": "markdown",
   "metadata": {
    "colab_type": "text",
    "id": "RWKcVIyFKwHM"
   },
   "source": [
    "**Challenge**: What are the dimensions of our new dataframe? How many rows and columns does it have? Print out the column names and print out the first 5 rows of the dataframe."
   ]
  },
  {
   "cell_type": "code",
   "execution_count": 80,
   "metadata": {
    "colab": {},
    "colab_type": "code",
    "id": "v-u4FcLXGxu9"
   },
   "outputs": [
    {
     "data": {
      "text/plain": [
       "(145, 14)"
      ]
     },
     "execution_count": 80,
     "metadata": {},
     "output_type": "execute_result"
    }
   ],
   "source": [
    "pivoted_df.shape"
   ]
  },
  {
   "cell_type": "code",
   "execution_count": 82,
   "metadata": {
    "colab": {},
    "colab_type": "code",
    "id": "NUyBcaMMGxu-"
   },
   "outputs": [
    {
     "data": {
      "text/plain": [
       "Index(['assembly', 'c', 'c#', 'c++', 'delphi', 'go', 'java', 'javascript',\n",
       "       'perl', 'php', 'python', 'r', 'ruby', 'swift'],\n",
       "      dtype='object', name='TAG')"
      ]
     },
     "execution_count": 82,
     "metadata": {},
     "output_type": "execute_result"
    }
   ],
   "source": [
    "pivoted_df.columns"
   ]
  },
  {
   "cell_type": "code",
   "execution_count": 85,
   "metadata": {
    "colab": {},
    "colab_type": "code",
    "id": "LnUIOL3LGxvA"
   },
   "outputs": [
    {
     "data": {
      "text/html": [
       "<div>\n",
       "<style scoped>\n",
       "    .dataframe tbody tr th:only-of-type {\n",
       "        vertical-align: middle;\n",
       "    }\n",
       "\n",
       "    .dataframe tbody tr th {\n",
       "        vertical-align: top;\n",
       "    }\n",
       "\n",
       "    .dataframe thead th {\n",
       "        text-align: right;\n",
       "    }\n",
       "</style>\n",
       "<table border=\"1\" class=\"dataframe\">\n",
       "  <thead>\n",
       "    <tr style=\"text-align: right;\">\n",
       "      <th>TAG</th>\n",
       "      <th>assembly</th>\n",
       "      <th>c</th>\n",
       "      <th>c#</th>\n",
       "      <th>c++</th>\n",
       "      <th>delphi</th>\n",
       "      <th>go</th>\n",
       "      <th>java</th>\n",
       "      <th>javascript</th>\n",
       "      <th>perl</th>\n",
       "      <th>php</th>\n",
       "      <th>python</th>\n",
       "      <th>r</th>\n",
       "      <th>ruby</th>\n",
       "      <th>swift</th>\n",
       "    </tr>\n",
       "    <tr>\n",
       "      <th>DATE</th>\n",
       "      <th></th>\n",
       "      <th></th>\n",
       "      <th></th>\n",
       "      <th></th>\n",
       "      <th></th>\n",
       "      <th></th>\n",
       "      <th></th>\n",
       "      <th></th>\n",
       "      <th></th>\n",
       "      <th></th>\n",
       "      <th></th>\n",
       "      <th></th>\n",
       "      <th></th>\n",
       "      <th></th>\n",
       "    </tr>\n",
       "  </thead>\n",
       "  <tbody>\n",
       "    <tr>\n",
       "      <th>2008-07-01</th>\n",
       "      <td>0.0</td>\n",
       "      <td>0.0</td>\n",
       "      <td>3.0</td>\n",
       "      <td>0.0</td>\n",
       "      <td>0.0</td>\n",
       "      <td>0.0</td>\n",
       "      <td>0.0</td>\n",
       "      <td>0.0</td>\n",
       "      <td>0.0</td>\n",
       "      <td>0.0</td>\n",
       "      <td>0.0</td>\n",
       "      <td>0.0</td>\n",
       "      <td>0.0</td>\n",
       "      <td>0.0</td>\n",
       "    </tr>\n",
       "    <tr>\n",
       "      <th>2008-08-01</th>\n",
       "      <td>8.0</td>\n",
       "      <td>85.0</td>\n",
       "      <td>511.0</td>\n",
       "      <td>164.0</td>\n",
       "      <td>14.0</td>\n",
       "      <td>0.0</td>\n",
       "      <td>222.0</td>\n",
       "      <td>162.0</td>\n",
       "      <td>28.0</td>\n",
       "      <td>161.0</td>\n",
       "      <td>124.0</td>\n",
       "      <td>0.0</td>\n",
       "      <td>73.0</td>\n",
       "      <td>0.0</td>\n",
       "    </tr>\n",
       "    <tr>\n",
       "      <th>2008-09-01</th>\n",
       "      <td>28.0</td>\n",
       "      <td>321.0</td>\n",
       "      <td>1649.0</td>\n",
       "      <td>755.0</td>\n",
       "      <td>105.0</td>\n",
       "      <td>0.0</td>\n",
       "      <td>1137.0</td>\n",
       "      <td>640.0</td>\n",
       "      <td>131.0</td>\n",
       "      <td>482.0</td>\n",
       "      <td>542.0</td>\n",
       "      <td>6.0</td>\n",
       "      <td>290.0</td>\n",
       "      <td>0.0</td>\n",
       "    </tr>\n",
       "    <tr>\n",
       "      <th>2008-10-01</th>\n",
       "      <td>15.0</td>\n",
       "      <td>303.0</td>\n",
       "      <td>1989.0</td>\n",
       "      <td>811.0</td>\n",
       "      <td>112.0</td>\n",
       "      <td>0.0</td>\n",
       "      <td>1153.0</td>\n",
       "      <td>725.0</td>\n",
       "      <td>127.0</td>\n",
       "      <td>617.0</td>\n",
       "      <td>510.0</td>\n",
       "      <td>0.0</td>\n",
       "      <td>249.0</td>\n",
       "      <td>0.0</td>\n",
       "    </tr>\n",
       "    <tr>\n",
       "      <th>2008-11-01</th>\n",
       "      <td>17.0</td>\n",
       "      <td>259.0</td>\n",
       "      <td>1730.0</td>\n",
       "      <td>735.0</td>\n",
       "      <td>141.0</td>\n",
       "      <td>0.0</td>\n",
       "      <td>958.0</td>\n",
       "      <td>579.0</td>\n",
       "      <td>97.0</td>\n",
       "      <td>504.0</td>\n",
       "      <td>452.0</td>\n",
       "      <td>1.0</td>\n",
       "      <td>160.0</td>\n",
       "      <td>0.0</td>\n",
       "    </tr>\n",
       "  </tbody>\n",
       "</table>\n",
       "</div>"
      ],
      "text/plain": [
       "TAG         assembly      c      c#    c++  delphi   go    java  javascript  \\\n",
       "DATE                                                                          \n",
       "2008-07-01       0.0    0.0     3.0    0.0     0.0  0.0     0.0         0.0   \n",
       "2008-08-01       8.0   85.0   511.0  164.0    14.0  0.0   222.0       162.0   \n",
       "2008-09-01      28.0  321.0  1649.0  755.0   105.0  0.0  1137.0       640.0   \n",
       "2008-10-01      15.0  303.0  1989.0  811.0   112.0  0.0  1153.0       725.0   \n",
       "2008-11-01      17.0  259.0  1730.0  735.0   141.0  0.0   958.0       579.0   \n",
       "\n",
       "TAG          perl    php  python    r   ruby  swift  \n",
       "DATE                                                 \n",
       "2008-07-01    0.0    0.0     0.0  0.0    0.0    0.0  \n",
       "2008-08-01   28.0  161.0   124.0  0.0   73.0    0.0  \n",
       "2008-09-01  131.0  482.0   542.0  6.0  290.0    0.0  \n",
       "2008-10-01  127.0  617.0   510.0  0.0  249.0    0.0  \n",
       "2008-11-01   97.0  504.0   452.0  1.0  160.0    0.0  "
      ]
     },
     "execution_count": 85,
     "metadata": {},
     "output_type": "execute_result"
    }
   ],
   "source": [
    "pivoted_df.head()"
   ]
  },
  {
   "cell_type": "markdown",
   "metadata": {
    "colab_type": "text",
    "id": "BoDCuRU0GxvC"
   },
   "source": [
    "**Challenge**: Count the number of entries per programming language. Why might the number of entries be different? "
   ]
  },
  {
   "cell_type": "code",
   "execution_count": 5,
   "metadata": {
    "colab": {},
    "colab_type": "code",
    "id": "-peEFgaMGxvE"
   },
   "outputs": [],
   "source": []
  },
  {
   "cell_type": "code",
   "execution_count": 97,
   "metadata": {
    "colab": {},
    "colab_type": "code",
    "id": "01f2BCF8GxvG"
   },
   "outputs": [
    {
     "data": {
      "text/plain": [
       "DATE\n",
       "2008-07-01        0.0\n",
       "2008-08-01      222.0\n",
       "2008-09-01     1137.0\n",
       "2008-10-01     1153.0\n",
       "2008-11-01      958.0\n",
       "               ...   \n",
       "2020-03-01    13253.0\n",
       "2020-04-01    15377.0\n",
       "2020-05-01    14711.0\n",
       "2020-06-01    13015.0\n",
       "2020-07-01    12723.0\n",
       "Name: java, Length: 145, dtype: float64"
      ]
     },
     "execution_count": 97,
     "metadata": {},
     "output_type": "execute_result"
    }
   ],
   "source": [
    "pivoted_df['java']"
   ]
  },
  {
   "cell_type": "code",
   "execution_count": 95,
   "metadata": {
    "colab": {},
    "colab_type": "code",
    "id": "KooRRxAdGxvI"
   },
   "outputs": [
    {
     "data": {
      "text/plain": [
       "DatetimeIndex(['2008-07-01', '2008-08-01', '2008-09-01', '2008-10-01',\n",
       "               '2008-11-01', '2008-12-01', '2009-01-01', '2009-02-01',\n",
       "               '2009-03-01', '2009-04-01',\n",
       "               ...\n",
       "               '2019-10-01', '2019-11-01', '2019-12-01', '2020-01-01',\n",
       "               '2020-02-01', '2020-03-01', '2020-04-01', '2020-05-01',\n",
       "               '2020-06-01', '2020-07-01'],\n",
       "              dtype='datetime64[ns]', name='DATE', length=145, freq=None)"
      ]
     },
     "execution_count": 95,
     "metadata": {},
     "output_type": "execute_result"
    }
   ],
   "source": [
    "pivoted_df.index"
   ]
  },
  {
   "cell_type": "markdown",
   "metadata": {
    "colab_type": "text",
    "id": "8xU7l_f4GxvK"
   },
   "source": [
    "## Data Visualisaton with with Matplotlib\n"
   ]
  },
  {
   "cell_type": "markdown",
   "metadata": {
    "colab_type": "text",
    "id": "njnNXTlhGxvK"
   },
   "source": [
    "**Challenge**: Use the [matplotlib documentation](https://matplotlib.org/3.2.1/api/_as_gen/matplotlib.pyplot.plot.html#matplotlib.pyplot.plot) to plot a single programming language (e.g., java) on a chart."
   ]
  },
  {
   "cell_type": "code",
   "execution_count": 109,
   "metadata": {
    "colab": {},
    "colab_type": "code",
    "id": "S0OS8T8iGxvL"
   },
   "outputs": [
    {
     "data": {
      "text/plain": [
       "<matplotlib.legend.Legend at 0x1aa18d41b20>"
      ]
     },
     "execution_count": 109,
     "metadata": {},
     "output_type": "execute_result"
    },
    {
     "data": {
      "image/png": "[encoded data removed]",
      "text/plain": [
       "<Figure size 1152x720 with 1 Axes>"
      ]
     },
     "metadata": {
      "needs_background": "light"
     },
     "output_type": "display_data"
    }
   ],
   "source": [
    "roll_df = pivoted_df.rolling(window=5).mean()\n",
    "plt.figure(figsize=(16,10))\n",
    "plt.xticks(fontsize=14)\n",
    "plt.yticks(fontsize=14)\n",
    "plt.xlabel('Date', fontsize=14)\n",
    "plt.ylabel('Number of Posts', fontsize=14)\n",
    "plt.ylim(0, 35000)\n",
    "for column in roll_df.columns:\n",
    "    plt.plot(roll_df.index, roll_df[column], linewidth=3, label=roll_df[column].name)\n",
    "plt.legend(fontsize=16)"
   ]
  },
  {
   "cell_type": "code",
   "execution_count": 5,
   "metadata": {
    "colab": {},
    "colab_type": "code",
    "id": "EU6AV1l9GxvM"
   },
   "outputs": [],
   "source": []
  },
  {
   "cell_type": "code",
   "execution_count": 5,
   "metadata": {
    "colab": {},
    "colab_type": "code",
    "id": "_Qzzg6b_GxvO"
   },
   "outputs": [],
   "source": []
  },
  {
   "cell_type": "markdown",
   "metadata": {
    "colab_type": "text",
    "id": "Sm2DL5tZGxvQ"
   },
   "source": [
    "**Challenge**: Show two line (e.g. for Java and Python) on the same chart."
   ]
  },
  {
   "cell_type": "code",
   "execution_count": 5,
   "metadata": {
    "colab": {},
    "colab_type": "code",
    "id": "T-0vClQSGxvQ"
   },
   "outputs": [],
   "source": []
  },
  {
   "cell_type": "markdown",
   "metadata": {
    "colab_type": "text",
    "id": "3jSjfPy7GxvY"
   },
   "source": [
    "# Smoothing out Time Series Data\n",
    "\n",
    "Time series data can be quite noisy, with a lot of up and down spikes. To better see a trend we can plot an average of, say 6 or 12 observations. This is called the rolling mean. We calculate the average in a window of time and move it forward by one overservation. Pandas has two handy methods already built in to work this out: [rolling()](https://pandas.pydata.org/pandas-docs/stable/reference/api/pandas.DataFrame.rolling.html) and [mean()](https://pandas.pydata.org/pandas-docs/stable/reference/api/pandas.core.window.rolling.Rolling.mean.html). "
   ]
  },
  {
   "cell_type": "code",
   "execution_count": null,
   "metadata": {
    "colab": {},
    "colab_type": "code",
    "id": "s3WYd3OgGxvc"
   },
   "outputs": [],
   "source": []
  },
  {
   "cell_type": "code",
   "execution_count": null,
   "metadata": {
    "colab": {},
    "colab_type": "code",
    "id": "WMJOX8Y2Gxvd"
   },
   "outputs": [],
   "source": []
  },
  {
   "cell_type": "code",
   "execution_count": null,
   "metadata": {
    "colab": {},
    "colab_type": "code",
    "id": "fAvvarA7Gxvf"
   },
   "outputs": [],
   "source": []
  },
  {
   "cell_type": "code",
   "execution_count": null,
   "metadata": {
    "colab": {},
    "colab_type": "code",
    "id": "Gm0Ww0S4Gxvg"
   },
   "outputs": [],
   "source": []
  }
 ],
 "metadata": {
  "colab": {
   "name": "Programming Languages (start).ipynb",
   "provenance": []
  },
  "kernelspec": {
   "display_name": "Python 3",
   "language": "python",
   "name": "python3"
  },
  "language_info": {
   "codemirror_mode": {
    "name": "ipython",
    "version": 3
   },
   "file_extension": ".py",
   "mimetype": "text/x-python",
   "name": "python",
   "nbconvert_exporter": "python",
   "pygments_lexer": "ipython3",
   "version": "3.8.5"
  }
 },
 "nbformat": 4,
 "nbformat_minor": 4
}
